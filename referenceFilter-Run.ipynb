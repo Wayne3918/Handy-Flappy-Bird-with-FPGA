{
 "cells": [
  {
   "cell_type": "markdown",
   "metadata": {},
   "source": [
    "# EIE 1st Year Project - Reference Design 2019\n",
    "\n",
    "This notebook demonstrates the interface between PYNQ's Processing Systems (PS) and a custom HLS hardware block integrated with PYNQ's base overlay for real-time Video Processing. It implements a Vertical-Edge detector capable of running in >30fps. \n",
    "\n",
    "This material can be used for academic purposes only. Any commerical use is prohibited. \n",
    "\n",
    "Contact: Alexandros Kouris (a.kouris16@imperial.ac.uk), Ph.D. Candidate, Imperial College London"
   ]
  },
  {
   "cell_type": "code",
   "execution_count": 1,
   "metadata": {},
   "outputs": [
    {
     "data": {
      "application/javascript": [
       "\n",
       "require(['notebook/js/codecell'], function(codecell) {\n",
       "  codecell.CodeCell.options_default.highlight_modes[\n",
       "      'magic_text/x-csrc'] = {'reg':[/^%%microblaze/]};\n",
       "  Jupyter.notebook.events.one('kernel_ready.Kernel', function(){\n",
       "      Jupyter.notebook.get_cells().map(function(cell){\n",
       "          if (cell.cell_type == 'code'){ cell.auto_highlight(); } }) ;\n",
       "  });\n",
       "});\n"
      ]
     },
     "metadata": {},
     "output_type": "display_data"
    }
   ],
   "source": [
    "from pynq import Overlay, Xlnk\n",
    "from pynq.overlays.base import BaseOverlay\n",
    "\n",
    "allocator = Xlnk()\n",
    "\n",
    "#Load customised version of Base-Overlay,that included the custom hardware block, instead of using BaseOverlay(\"base.bit\")\n",
    "#------------------------------------------------------------------------------------------------------------------------\n",
    "#ol = Overlay(\"eie_v25.bit\") #Grayscale, full-frame (33fps)\n",
    "#ol = Overlay(\"eie_v25_2.bit\") #Grayscale, half-frame (33fps)\n",
    "ol = Overlay(\"block.bit\") #Vertical Edge-Detector, half-frame (33fps)  - EIE2019"
   ]
  },
  {
   "cell_type": "code",
   "execution_count": 2,
   "metadata": {},
   "outputs": [
    {
     "data": {
      "text/plain": [
       "<contextlib._GeneratorContextManager at 0xad7d4df0>"
      ]
     },
     "execution_count": 2,
     "metadata": {},
     "output_type": "execute_result"
    }
   ],
   "source": [
    "from pynq.lib.video import *\n",
    "\n",
    "\n",
    "\n",
    "hdmi_in = ol.video.hdmi_in\n",
    "hdmi_out = ol.video.hdmi_out\n",
    "\n",
    "hdmi_in.configure(PIXEL_RGBA)\n",
    "hdmi_out.configure(hdmi_in.mode, PIXEL_RGBA)"
   ]
  },
  {
   "cell_type": "code",
   "execution_count": 3,
   "metadata": {},
   "outputs": [
    {
     "data": {
      "text/plain": [
       "<contextlib._GeneratorContextManager at 0xadcebe50>"
      ]
     },
     "execution_count": 3,
     "metadata": {},
     "output_type": "execute_result"
    }
   ],
   "source": [
    "hdmi_in.start()\n",
    "hdmi_out.start()\n",
    "\n"
   ]
  },
  {
   "cell_type": "code",
   "execution_count": 4,
   "metadata": {},
   "outputs": [],
   "source": [
    "\n",
    "from PIL import Image\n",
    "sourceFileName = \"test.png\"\n",
    "avatar = Image.open(sourceFileName)\n",
    "avatar.show()"
   ]
  },
  {
   "cell_type": "code",
   "execution_count": 5,
   "metadata": {},
   "outputs": [],
   "source": [
    "from pynq import MMIO\n",
    "#filter_reference = MMIO(0x00000000,0x10000)\n",
    "filter_reference = MMIO(0x00000000,0x40000000)  #MMIO Addresses should always be double-checked when exporting a Vivado Design"
   ]
  },
  {
   "cell_type": "code",
   "execution_count": null,
   "metadata": {},
   "outputs": [
    {
     "name": "stdout",
     "output_type": "stream",
     "text": [
      "100\n",
      "403701760\n"
     ]
    }
   ],
   "source": [
    "import time\n",
    "\n",
    "start = time.time()\n",
    "\n",
    "#assign value\n",
    "x_strip=100\n",
    "y_strip=20\n",
    "s2=100\n",
    "interval=150\n",
    "x_bird=1000\n",
    "y_bird=500\n",
    "s_bird=50\n",
    "\n",
    "for _ in range(600):\n",
    "    print(x_strip)\n",
    "    in_frame = hdmi_in.readframe()\n",
    "    out_frame = hdmi_out.newframe()\n",
    "    filter_reference.write(0x10, in_frame.physical_address)   # Get Pointers to memory\n",
    "    filter_reference.write(0x14, out_frame.physical_address)\n",
    "    filter_reference.write(0x20, 1280)   # Make sure that the input HDMI signal is set to 1280x720\n",
    "    filter_reference.write(0x28, 720)\n",
    "    \n",
    "    ptr=in_frame.physical_address\n",
    "    print(ptr)\n",
    "    #filter_reference.write(0x20, in_frame.shape[1]) \n",
    "    #filter_reference.write(0x28, in_frame.shape[0])\n",
    "    filter_reference.write(0x30, x_strip)\n",
    "    filter_reference.write(0x38, y_strip)\n",
    "    filter_reference.write(0x40, s_bird)\n",
    "    filter_reference.write(0x48, x_bird)\n",
    "    filter_reference.write(0x50, y_bird)\n",
    "    filter_reference.write(0x58, s2)\n",
    "    filter_reference.write(0x60, interval)\n",
    "    filter_reference.write(0x68, ptr)\n",
    "    filter_reference.write(0x00, 0x01)             # ap_start triggering\n",
    "    while (filter_reference.read(0) & 0x4) == 0:   # ap_done checking\n",
    "        pass\n",
    "    hdmi_out.writeframe(out_frame)\n",
    "\n",
    "end = time.time()\n",
    "\n",
    "print(f\"600 frames took {end-start} seconds at {600/(end-start)} fps\")"
   ]
  },
  {
   "cell_type": "code",
   "execution_count": 7,
   "metadata": {},
   "outputs": [],
   "source": [
    "hdmi_in.close()    # Don't forget to run this to free memory\n",
    "hdmi_out.close()   # NEVERFORGET NEVERFORGET NEVERFORGET :p "
   ]
  },
  {
   "cell_type": "code",
   "execution_count": null,
   "metadata": {},
   "outputs": [],
   "source": []
  }
 ],
 "metadata": {
  "kernelspec": {
   "display_name": "Python 3",
   "language": "python",
   "name": "python3"
  }
 },
 "nbformat": 4,
 "nbformat_minor": 2
}
