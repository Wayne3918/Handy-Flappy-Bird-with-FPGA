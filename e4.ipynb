{
 "cells": [
  {
   "cell_type": "markdown",
   "metadata": {
    "colab_type": "text",
    "id": "4Nrr7gsVCjon"
   },
   "source": [
    "# EIE 1st Year Project - Reference Design 2019\n",
    "\n",
    "This notebook demonstrates the interface between PYNQ's Processing Systems (PS) and a custom HLS hardware block integrated with PYNQ's base overlay for real-time Video Processing. It implements a Vertical-Edge detector capable of running in >30fps. \n",
    "\n",
    "This material can be used for academic purposes only. Any commerical use is prohibited. \n",
    "\n",
    "Contact: Alexandros Kouris (a.kouris16@imperial.ac.uk), Ph.D. Candidate, Imperial College London"
   ]
  },
  {
   "cell_type": "code",
   "execution_count": 1,
   "metadata": {
    "colab": {},
    "colab_type": "code",
    "id": "kT_X91GNCjop"
   },
   "outputs": [
    {
     "data": {
      "application/javascript": [
       "\n",
       "require(['notebook/js/codecell'], function(codecell) {\n",
       "  codecell.CodeCell.options_default.highlight_modes[\n",
       "      'magic_text/x-csrc'] = {'reg':[/^%%microblaze/]};\n",
       "  Jupyter.notebook.events.one('kernel_ready.Kernel', function(){\n",
       "      Jupyter.notebook.get_cells().map(function(cell){\n",
       "          if (cell.cell_type == 'code'){ cell.auto_highlight(); } }) ;\n",
       "  });\n",
       "});\n"
      ]
     },
     "metadata": {},
     "output_type": "display_data"
    }
   ],
   "source": [
    "from pynq import Overlay, Xlnk\n",
    "from pynq.overlays.base import BaseOverlay\n",
    "\n",
    "allocator = Xlnk()\n",
    "\n",
    "#Load customised version of Base-Overlay,that included the custom hardware block, instead of using BaseOverlay(\"base.bit\")\n",
    "#------------------------------------------------------------------------------------------------------------------------\n",
    "#ol = Overlay(\"eie_v25.bit\") #Grayscale, full-frame (33fps)\n",
    "#ol = Overlay(\"eie_v25_2.bit\") #Grayscale, half-frame (33fps)\n",
    "ol = Overlay(\"e3.bit\") #Vertical Edge-Detector, half-frame (33fps)  - EIE2019"
   ]
  },
  {
   "cell_type": "code",
   "execution_count": 2,
   "metadata": {
    "colab": {},
    "colab_type": "code",
    "id": "lhkEC5cPCjo8",
    "outputId": "00b7eac0-5d17-4cb7-e787-017d25c151ea"
   },
   "outputs": [
    {
     "data": {
      "text/plain": [
       "<contextlib._GeneratorContextManager at 0xad825e50>"
      ]
     },
     "execution_count": 2,
     "metadata": {},
     "output_type": "execute_result"
    }
   ],
   "source": [
    "from pynq.lib.video import *\n",
    "\n",
    "\n",
    "\n",
    "hdmi_in = ol.video.hdmi_in\n",
    "hdmi_out = ol.video.hdmi_out\n",
    "\n",
    "hdmi_in.configure(PIXEL_RGBA)\n",
    "hdmi_out.configure(hdmi_in.mode, PIXEL_RGBA)"
   ]
  },
  {
   "cell_type": "code",
   "execution_count": 3,
   "metadata": {
    "colab": {},
    "colab_type": "code",
    "id": "jp2AJnlQCjpB",
    "outputId": "5a64e182-37b3-4734-fdd0-ec724052997a"
   },
   "outputs": [
    {
     "data": {
      "text/plain": [
       "<contextlib._GeneratorContextManager at 0xaf1aa2b0>"
      ]
     },
     "execution_count": 3,
     "metadata": {},
     "output_type": "execute_result"
    }
   ],
   "source": [
    "hdmi_in.start()\n",
    "hdmi_out.start()\n",
    "\n"
   ]
  },
  {
   "cell_type": "code",
   "execution_count": 4,
   "metadata": {
    "colab": {},
    "colab_type": "code",
    "id": "ovARCokOCjpM"
   },
   "outputs": [],
   "source": [
    "\n",
    "from PIL import Image\n",
    "sourceFileName = \"test.png\"\n",
    "avatar = Image.open(sourceFileName)\n",
    "avatar.show()"
   ]
  },
  {
   "cell_type": "code",
   "execution_count": 5,
   "metadata": {
    "colab": {},
    "colab_type": "code",
    "id": "bufjFiMPCjpR"
   },
   "outputs": [],
   "source": [
    "from pynq import MMIO\n",
    "#filter_reference = MMIO(0x00000000,0x10000)\n",
    "filter_reference = MMIO(0x83C20000,0x10000)  #MMIO Addresses should always be double-checked when exporting a Vivado Design\n",
    "add_io = MMIO(0x83C30000,0x10000)"
   ]
  },
  {
   "cell_type": "code",
   "execution_count": 16,
   "metadata": {
    "colab": {},
    "colab_type": "code",
    "id": "J1CUhQ8rCjpV"
   },
   "outputs": [
    {
     "name": "stdout",
     "output_type": "stream",
     "text": [
      "600 frames took 34.674991846084595 seconds at 34.60707374717092 fps\n"
     ]
    }
   ],
   "source": [
    "import time\n",
    "\n",
    "start = time.time()\n",
    "\n",
    "#assign value\n",
    "\n",
    "x_width=60;\n",
    "#package x_pillar SEED = 0x2504705906AA8CA9CF8B9BFA;\n",
    "x_pillar_i_0=0x2C0C8000\n",
    "x_pillar_i_1=0x02581901\n",
    "x_pillar_i_2=0x4B03E832\n",
    "interval = 200;\n",
    "v_horizontal = 50;\n",
    "\n",
    "s_bird = 100;\n",
    "y_bird =0;\n",
    "\n",
    "#package y_depth SEED = 0x0AA0AA0AA0AA0AA0AA0AA0AA;\n",
    "y_depth_i_0 =0xC8064570\n",
    "y_depth_i_1 =0x419012C0\n",
    "y_depth_i_2 =0x2BC2581F\n",
    "new_depth = 100;\n",
    "gap = 300;\n",
    "\n",
    "r_avg_i =233;\n",
    "g_avg_i =52;\n",
    "b_avg_i =100;\n",
    "error =50;\n",
    "case_t = 50;\n",
    "max_h=1\n",
    "leftbound = 0\n",
    "rightbound = 100\n",
    "\n",
    "game_over = 0\n",
    "\n",
    "\n",
    "for _ in range(24):\n",
    "    r_avg_i =233;\n",
    "    g_avg_i =52;\n",
    "    b_avg_i =100;\n",
    "    game_over = 0\n",
    "    \n",
    "    if _ < 25:\n",
    "        case_t=34 #pink show 1\n",
    "        \n",
    "    elif _ < 30:\n",
    "        case_t=2 #green pass 2\n",
    "    elif _ < 500:\n",
    "        case_t=34 #transparent no collision 15\n",
    "    else:\n",
    "        case_t=30\n",
    "      \n",
    "   \n",
    "    in_frame = hdmi_in.readframe()\n",
    "    out_frame = hdmi_out.newframe()\n",
    "    filter_reference.write(0x10, in_frame.physical_address)   # Get Pointers to memory\n",
    "    filter_reference.write(0x18, out_frame.physical_address)\n",
    "    filter_reference.write(0x20, 1280)   # Make sure that the input HDMI signal is set to 1280x720\n",
    "    filter_reference.write(0x28, 720)\n",
    "    \n",
    "   \n",
    "    #filter_reference.write(0x20, in_frame.shape[1]) \n",
    "    #filter_reference.write(0x28, in_frame.shape[0])\n",
    "    add_io.write(0x10, x_width)\n",
    "    add_io.write(0x18, x_pillar_i_0)\n",
    "    add_io.write(0x1c, x_pillar_i_1)\n",
    "    add_io.write(0x20, x_pillar_i_2)\n",
    "\n",
    "    add_io.write(0x38, interval)\n",
    "    add_io.write(0x40, v_horizontal)\n",
    "    add_io.write(0x48, s_bird)\n",
    "    add_io.write(0x50, y_bird)\n",
    "  \n",
    "    add_io.write(0x60, y_depth_i_0)\n",
    "    add_io.write(0x64, y_depth_i_1)\n",
    "    add_io.write(0x68, y_depth_i_2)\n",
    "\n",
    "    add_io.write(0x80, new_depth)\n",
    "    add_io.write(0x88, gap)\n",
    "    add_io.write(0x90, game_over)\n",
    "    \n",
    "    add_io.write(0xa0, r_avg_i)\n",
    "    add_io.write(0xb0, g_avg_i)\n",
    "    add_io.write(0xc0, b_avg_i)\n",
    "\n",
    "    add_io.write(0xd0, case_t)\n",
    "    add_io.write(0xd8, error)\n",
    "    add_io.write(0xe0, max_h)\n",
    "    add_io.write(0xf0, leftbound)\n",
    "    add_io.write(0xf8, rightbound)\n",
    "    \n",
    "    \n",
    "    filter_reference.write(0x00, 0x01)             # ap_start triggering\n",
    "    \n",
    "    while (filter_reference.read(0) & 0x4) == 0:   # ap_done checking\n",
    "        pass\n",
    "      \n",
    "    #Read and Store\n",
    "    if add_io.read(0x34) == 1:\n",
    "        x_pillar_i_0=add_io.read(0x28)\n",
    "        x_pillar_i_1=add_io.read(0x2c)\n",
    "        x_pillar_i_2=add_io.read(0x30)\n",
    "    \n",
    "    \n",
    "    if add_io.read(0x7c) == 1:\n",
    "        y_depth_i_0 =add_io.read(0x70)\n",
    "        y_depth_i_1 =add_io.read(0x74)\n",
    "        y_depth_i_2 =add_io.read(0x78)\n",
    "  \n",
    "    if add_io.read(0xac) == 1:\n",
    "        r_avg_i =add_io.read(0xa8)\n",
    "    if add_io.read(0xbc) == 1:\n",
    "        g_avg_i =add_io.read(0xb8)\n",
    "    if add_io.read(0xcc) == 1:\n",
    "        b_avg_i =add_io.read(0xc8)\n",
    "    \n",
    "    if add_io.read(0xec) == 1:\n",
    "        max_h = add_io.read(0xe8)\n",
    "        \n",
    "    if add_io.read(0x5c) ==1:\n",
    "        y_bird = add_io.read(0x58)\n",
    "    \n",
    "    if add_io.read(0x9c) == 1:\n",
    "        game_over=add_io.read(0x98)\n",
    "    \n",
    "    hdmi_out.writeframe(out_frame)\n",
    "\n",
    "end = time.time()\n",
    "\n",
    "print(f\"600 frames took {end-start} seconds at {1200/(end-start)} fps\")"
   ]
  },
  {
   "cell_type": "markdown",
   "metadata": {
    "colab_type": "text",
    "id": "wI_MUcm0AZNS"
   },
   "source": [
    "if add_io.read(0x5c) == 1:\n",
    "        y_bird =add_io.read(0x58)-100\n",
    "    if y_bird > 600:\n",
    "        y_bird = y_bird-400\n",
    "    elif y_bird > 500:\n",
    "        y_bird = y_bird-350\n",
    "    elif y_bird > 400:\n",
    "        y_bird = y_bird-300\n",
    "    elif y_bird > 300:\n",
    "        y_bird = y_bird-250\n",
    "    elif y_bird > 200:\n",
    "        y_bird = y_bird-200"
   ]
  },
  {
   "cell_type": "code",
   "execution_count": 0,
   "metadata": {
    "colab": {},
    "colab_type": "code",
    "id": "FcjAxF_mCjpa"
   },
   "outputs": [],
   "source": [
    "hdmi_in.close()    # Don't forget to run this to free memory\n",
    "hdmi_out.close()   # NEVERFORGET NEVERFORGET NEVERFORGET :p "
   ]
  },
  {
   "cell_type": "code",
   "execution_count": 0,
   "metadata": {
    "colab": {},
    "colab_type": "code",
    "id": "z9zjPmCcCjpf"
   },
   "outputs": [],
   "source": [
    "    "
   ]
  }
 ],
 "metadata": {
  "colab": {
   "collapsed_sections": [],
   "name": "debug(2).ipynb",
   "provenance": [],
   "version": "0.3.2"
  },
  "kernelspec": {
   "display_name": "Python 3",
   "language": "python",
   "name": "python3"
  },
  "language_info": {
   "codemirror_mode": {
    "name": "ipython",
    "version": 3
   },
   "file_extension": ".py",
   "mimetype": "text/x-python",
   "name": "python",
   "nbconvert_exporter": "python",
   "pygments_lexer": "ipython3",
   "version": "3.6.5"
  }
 },
 "nbformat": 4,
 "nbformat_minor": 1
}
